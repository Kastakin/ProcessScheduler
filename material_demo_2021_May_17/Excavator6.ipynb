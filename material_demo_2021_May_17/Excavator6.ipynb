{
 "cells": [
  {
   "cell_type": "markdown",
   "id": "graduate-regular",
   "metadata": {},
   "source": [
    "# Excavator use-case 6: cost optimization"
   ]
  },
  {
   "cell_type": "code",
   "execution_count": null,
   "id": "wireless-syndication",
   "metadata": {},
   "outputs": [],
   "source": [
    "%matplotlib widget\n",
    "import processscheduler as ps\n",
    "\n",
    "problem = ps.SchedulingProblem('Excavator6:CostOptimization')\n",
    "\n",
    "# three tasks\n",
    "dig_small_hole = ps.VariableDurationTask('DigSmallHole', work_amount=3)\n",
    "dig_medium_hole = ps.VariableDurationTask('DigMediumHole', work_amount=7)\n",
    "dig_huge_hole = ps.VariableDurationTask('DigHugeHole', work_amount=15)\n",
    "\n",
    "# two workers\n",
    "small_exc = ps.Worker('SmallExcavator', productivity=4, cost=ps.ConstantCostPerPeriod(5))\n",
    "medium_ex = ps.Worker('MediumExcavator', productivity=6, cost=ps.ConstantCostPerPeriod(10))\n",
    "\n",
    "dig_small_hole.add_required_resource(ps.SelectWorkers([small_exc, medium_ex], 1, kind='min'))\n",
    "dig_medium_hole.add_required_resource(ps.SelectWorkers([small_exc, medium_ex], 1, kind='min'))\n",
    "dig_huge_hole.add_required_resource(ps.SelectWorkers([small_exc, medium_ex], 1, kind='min'))\n",
    "\n",
    "\n",
    "# minimize the global cost\n",
    "problem.add_objective_resource_cost([small_exc, medium_ex])\n",
    "\n",
    "solver = ps.SchedulingSolver(problem)\n",
    "solution = solver.solve()\n",
    "solution.render_gantt_matplotlib()\n"
   ]
  }
 ],
 "metadata": {
  "kernelspec": {
   "display_name": "Python 3",
   "language": "python",
   "name": "python3"
  },
  "language_info": {
   "codemirror_mode": {
    "name": "ipython",
    "version": 3
   },
   "file_extension": ".py",
   "mimetype": "text/x-python",
   "name": "python",
   "nbconvert_exporter": "python",
   "pygments_lexer": "ipython3",
   "version": "3.8.6"
  }
 },
 "nbformat": 4,
 "nbformat_minor": 5
}
