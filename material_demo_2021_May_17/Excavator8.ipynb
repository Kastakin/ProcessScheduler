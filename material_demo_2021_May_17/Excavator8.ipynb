{
 "cells": [
  {
   "cell_type": "markdown",
   "id": "complimentary-present",
   "metadata": {},
   "source": [
    "# Excavator use-case 8: Advanced Cost Functions"
   ]
  },
  {
   "cell_type": "code",
   "execution_count": null,
   "id": "operational-identifier",
   "metadata": {},
   "outputs": [],
   "source": [
    "%matplotlib widget\n",
    "import processscheduler as ps\n",
    "\n",
    "problem = ps.SchedulingProblem('Excavator8:AdvancedCostFunction')\n",
    "\n",
    "# three tasks\n",
    "dig_small_hole = ps.VariableDurationTask('DigSmallHole', work_amount=3)\n",
    "dig_medium_hole = ps.VariableDurationTask('DigMediumHole', work_amount=7)\n",
    "dig_huge_hole = ps.VariableDurationTask('DigHugeHole', work_amount=15)"
   ]
  },
  {
   "cell_type": "code",
   "execution_count": null,
   "id": "hidden-inside",
   "metadata": {},
   "outputs": [],
   "source": [
    "# cost function for the small excavator is linear\n",
    "def cost_function_small_exc(t):\n",
    "    \"\"\"Linear cost function\"\"\"\n",
    "    return 10 * t + 20\n",
    "small_exc_cost = ps.PolynomialCostFunction(cost_function_small_exc)\n",
    "small_exc_cost.plot([0, 40])"
   ]
  },
  {
   "cell_type": "code",
   "execution_count": null,
   "id": "reflected-intranet",
   "metadata": {},
   "outputs": [],
   "source": [
    "# cost function for the mediaum excavator is polynomial, max at the middle\n",
    "def cost_function_medium_exc(t):\n",
    "    \"\"\"Quadratic cost function\"\"\"\n",
    "    return -(t - 20) ** 2 + 400\n",
    "medium_exc_cost = ps.PolynomialCostFunction(cost_function_medium_exc)\n",
    "medium_exc_cost.plot([0, 40])"
   ]
  },
  {
   "cell_type": "code",
   "execution_count": null,
   "id": "exterior-questionnaire",
   "metadata": {},
   "outputs": [],
   "source": [
    "small_exc = ps.Worker('SmallExcavator', productivity=4, cost=small_exc_cost)\n",
    "medium_ex = ps.Worker('MediumExcavator', productivity=6, cost=medium_exc_cost)\n",
    "\n",
    "dig_small_hole.add_required_resource(ps.SelectWorkers([small_exc, medium_ex], 1, kind='min'))\n",
    "dig_medium_hole.add_required_resource(ps.SelectWorkers([small_exc, medium_ex], 1, kind='min'))\n",
    "dig_huge_hole.add_required_resource(ps.SelectWorkers([small_exc, medium_ex], 1, kind='min'))\n",
    "\n",
    "problem.add_objective_makespan()\n",
    "problem.add_objective_resource_cost([small_exc, medium_ex])"
   ]
  },
  {
   "cell_type": "code",
   "execution_count": null,
   "id": "quiet-movement",
   "metadata": {},
   "outputs": [],
   "source": [
    "solver = ps.SchedulingSolver(problem, optimize_priority='pareto')"
   ]
  },
  {
   "cell_type": "code",
   "execution_count": null,
   "id": "interested-advice",
   "metadata": {},
   "outputs": [],
   "source": [
    "solution = solver.solve()\n",
    "solution.render_gantt_matplotlib()"
   ]
  }
 ],
 "metadata": {
  "kernelspec": {
   "display_name": "Python 3",
   "language": "python",
   "name": "python3"
  },
  "language_info": {
   "codemirror_mode": {
    "name": "ipython",
    "version": 3
   },
   "file_extension": ".py",
   "mimetype": "text/x-python",
   "name": "python",
   "nbconvert_exporter": "python",
   "pygments_lexer": "ipython3",
   "version": "3.8.6"
  }
 },
 "nbformat": 4,
 "nbformat_minor": 5
}
