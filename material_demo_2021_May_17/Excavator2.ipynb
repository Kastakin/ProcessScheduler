{
 "cells": [
  {
   "cell_type": "markdown",
   "id": "welcome-hunger",
   "metadata": {},
   "source": [
    "# Excavator use-case 2: find another solution"
   ]
  },
  {
   "cell_type": "code",
   "execution_count": null,
   "id": "rough-cleanup",
   "metadata": {},
   "outputs": [],
   "source": [
    "%matplotlib widget\n",
    "import processscheduler as ps\n",
    "\n",
    "problem = ps.SchedulingProblem('Excavator2:FindAnotherSolution')\n",
    "\n",
    "# three tasks\n",
    "dig_small_hole = ps.FixedDurationTask('DigSmallHole', duration=3)\n",
    "dig_medium_hole = ps.FixedDurationTask('DigMediumHole', duration=7)\n",
    "dig_huge_hole = ps.FixedDurationTask('DigHugeHole', duration=15)\n",
    "\n",
    "# two workers\n",
    "small_exc = ps.Worker('SmallExcavator')\n",
    "medium_ex = ps.Worker('MediumExcavator')\n",
    "\n",
    "dig_small_hole.add_required_resource(ps.SelectWorkers([small_exc, medium_ex], 1, kind='min'))\n",
    "dig_medium_hole.add_required_resource(ps.SelectWorkers([small_exc, medium_ex], 1, kind='min'))\n",
    "dig_huge_hole.add_required_resource(ps.SelectWorkers([small_exc, medium_ex], 1, kind='min'))\n",
    "\n",
    "solver = ps.SchedulingSolver(problem)\n",
    "solution = solver.solve()"
   ]
  },
  {
   "cell_type": "code",
   "execution_count": null,
   "id": "electoral-second",
   "metadata": {},
   "outputs": [],
   "source": [
    "solution.render_gantt_matplotlib()"
   ]
  },
  {
   "cell_type": "code",
   "execution_count": null,
   "id": "proprietary-sherman",
   "metadata": {},
   "outputs": [],
   "source": [
    "solution2 = solver.find_another_solution(dig_medium_hole.start)\n",
    "solution2.render_gantt_matplotlib()"
   ]
  },
  {
   "cell_type": "code",
   "execution_count": null,
   "id": "figured-minister",
   "metadata": {},
   "outputs": [],
   "source": [
    "solution3 = solver.find_another_solution(dig_medium_hole.start)\n",
    "solution3.render_gantt_matplotlib()"
   ]
  }
 ],
 "metadata": {
  "kernelspec": {
   "display_name": "Python 3",
   "language": "python",
   "name": "python3"
  },
  "language_info": {
   "codemirror_mode": {
    "name": "ipython",
    "version": 3
   },
   "file_extension": ".py",
   "mimetype": "text/x-python",
   "name": "python",
   "nbconvert_exporter": "python",
   "pygments_lexer": "ipython3",
   "version": "3.8.6"
  }
 },
 "nbformat": 4,
 "nbformat_minor": 5
}
