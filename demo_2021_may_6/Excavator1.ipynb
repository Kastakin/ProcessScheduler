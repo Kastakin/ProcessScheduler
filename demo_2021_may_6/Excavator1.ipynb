{
 "cells": [
  {
   "cell_type": "markdown",
   "id": "latest-appointment",
   "metadata": {},
   "source": [
    "# Excavator use-case 1: problem statement and first solution"
   ]
  },
  {
   "cell_type": "code",
   "execution_count": null,
   "id": "experienced-philosophy",
   "metadata": {},
   "outputs": [],
   "source": [
    "from IPython.display import Image\n",
    "%matplotlib widget\n",
    "import processscheduler as ps"
   ]
  },
  {
   "cell_type": "markdown",
   "id": "unavailable-access",
   "metadata": {},
   "source": [
    "### Problem: dig 3 holes (small, medium, big) using 2 excavators (one small size, one medimum size)"
   ]
  },
  {
   "cell_type": "code",
   "execution_count": null,
   "id": "confident-consent",
   "metadata": {},
   "outputs": [],
   "source": [
    "Image('excavator_small.jpeg', width=200)"
   ]
  },
  {
   "cell_type": "code",
   "execution_count": null,
   "id": "attached-oxide",
   "metadata": {},
   "outputs": [],
   "source": [
    "Image('excavator_medium_size.jpg', width=300)"
   ]
  },
  {
   "cell_type": "code",
   "execution_count": null,
   "id": "bearing-scholar",
   "metadata": {},
   "outputs": [],
   "source": [
    "Image('small_hole.jpeg', width=200)"
   ]
  },
  {
   "cell_type": "code",
   "execution_count": null,
   "id": "informational-shelf",
   "metadata": {},
   "outputs": [],
   "source": [
    "Image('medium_hole.jpeg', width=300)"
   ]
  },
  {
   "cell_type": "code",
   "execution_count": null,
   "id": "bibliographic-washington",
   "metadata": {},
   "outputs": [],
   "source": [
    "Image('huge_hole.jpg', width=400)"
   ]
  },
  {
   "cell_type": "code",
   "execution_count": null,
   "id": "sublime-mention",
   "metadata": {},
   "outputs": [],
   "source": [
    "problem = ps.SchedulingProblem('Excavator1:ProblemDefinition')\n",
    "\n",
    "# three tasks\n",
    "dig_small_hole = ps.FixedDurationTask('DigSmallHole', duration=3)\n",
    "dig_medium_hole = ps.FixedDurationTask('DigMediumHole', duration=7)\n",
    "dig_huge_hole = ps.FixedDurationTask('DigHugeHole', duration=15)\n",
    "\n",
    "# two workers\n",
    "small_exc = ps.Worker('SmallExcavator')\n",
    "medium_ex = ps.Worker('MediumExcavator')\n",
    "\n",
    "dig_small_hole.add_required_resource(ps.SelectWorkers([small_exc, medium_ex], 1, kind='min'))\n",
    "dig_medium_hole.add_required_resource(ps.SelectWorkers([small_exc, medium_ex], 1, kind='min'))\n",
    "dig_huge_hole.add_required_resource(ps.SelectWorkers([small_exc, medium_ex], 1, kind='min'))\n",
    "\n",
    "solver = ps.SchedulingSolver(problem)\n",
    "solution = solver.solve()"
   ]
  },
  {
   "cell_type": "code",
   "execution_count": null,
   "id": "adaptive-newcastle",
   "metadata": {},
   "outputs": [],
   "source": [
    "print(solution)"
   ]
  },
  {
   "cell_type": "code",
   "execution_count": null,
   "id": "substantial-bubble",
   "metadata": {},
   "outputs": [],
   "source": [
    "solution.render_gantt_matplotlib()"
   ]
  }
 ],
 "metadata": {
  "kernelspec": {
   "display_name": "Python 3",
   "language": "python",
   "name": "python3"
  },
  "language_info": {
   "codemirror_mode": {
    "name": "ipython",
    "version": 3
   },
   "file_extension": ".py",
   "mimetype": "text/x-python",
   "name": "python",
   "nbconvert_exporter": "python",
   "pygments_lexer": "ipython3",
   "version": "3.8.6"
  }
 },
 "nbformat": 4,
 "nbformat_minor": 5
}
