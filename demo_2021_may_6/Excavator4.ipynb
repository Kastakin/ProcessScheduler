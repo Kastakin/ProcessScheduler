{
 "cells": [
  {
   "cell_type": "markdown",
   "id": "junior-reward",
   "metadata": {},
   "source": [
    "# Excavator use-case 4: MakeSpan optimization"
   ]
  },
  {
   "cell_type": "code",
   "execution_count": null,
   "id": "hawaiian-engineering",
   "metadata": {},
   "outputs": [],
   "source": [
    "%matplotlib widget\n",
    "import processscheduler as ps\n",
    "\n",
    "problem = ps.SchedulingProblem('Excavator4:MakeSpan')\n",
    "\n",
    "# three tasks\n",
    "dig_small_hole = ps.FixedDurationTask('DigSmallHole', duration=3)\n",
    "dig_medium_hole = ps.FixedDurationTask('DigMediumHole', duration=7)\n",
    "dig_huge_hole = ps.FixedDurationTask('DigHugeHole', duration=15)\n",
    "\n",
    "# two workers\n",
    "small_exc = ps.Worker('SmallExcavator')\n",
    "medium_ex = ps.Worker('MediumExcavator')\n",
    "\n",
    "dig_small_hole.add_required_resource(ps.SelectWorkers([small_exc, medium_ex], 1, kind='min'))\n",
    "dig_medium_hole.add_required_resource(ps.SelectWorkers([small_exc, medium_ex], 1, kind='min'))\n",
    "dig_huge_hole.add_required_resource(ps.SelectWorkers([small_exc, medium_ex], 1, kind='min'))\n",
    "problem.add_objective_makespan()\n",
    "\n",
    "solver = ps.SchedulingSolver(problem)\n",
    "solution = solver.solve()\n",
    "solution.render_gantt_matplotlib()"
   ]
  }
 ],
 "metadata": {
  "kernelspec": {
   "display_name": "Python 3",
   "language": "python",
   "name": "python3"
  },
  "language_info": {
   "codemirror_mode": {
    "name": "ipython",
    "version": 3
   },
   "file_extension": ".py",
   "mimetype": "text/x-python",
   "name": "python",
   "nbconvert_exporter": "python",
   "pygments_lexer": "ipython3",
   "version": "3.8.6"
  }
 },
 "nbformat": 4,
 "nbformat_minor": 5
}
