{
 "cells": [
  {
   "cell_type": "markdown",
   "id": "dominican-worse",
   "metadata": {},
   "source": [
    "# Excavator use-case 3: task constraints"
   ]
  },
  {
   "cell_type": "code",
   "execution_count": null,
   "id": "duplicate-thinking",
   "metadata": {},
   "outputs": [],
   "source": [
    "%matplotlib widget\n",
    "import processscheduler as ps\n",
    "\n",
    "problem = ps.SchedulingProblem('Excavator3:TaskPrecedenceConstraint')\n",
    "\n",
    "# three tasks\n",
    "dig_small_hole = ps.FixedDurationTask('DigSmallHole', duration=3)\n",
    "dig_medium_hole = ps.FixedDurationTask('DigMediumHole', duration=7)\n",
    "dig_huge_hole = ps.FixedDurationTask('DigHugeHole', duration=15)\n",
    "\n",
    "# two workers\n",
    "small_exc = ps.Worker('SmallExcavator')\n",
    "medium_ex = ps.Worker('MediumExcavator')\n",
    "\n",
    "dig_small_hole.add_required_resource(ps.SelectWorkers([small_exc, medium_ex], 1, kind='min'))\n",
    "dig_medium_hole.add_required_resource(ps.SelectWorkers([small_exc, medium_ex], 1, kind='min'))\n",
    "dig_huge_hole.add_required_resource(ps.SelectWorkers([small_exc, medium_ex], 1, kind='min'))\n",
    "\n",
    "# adds a precedence constraint: task_2 must be scheduled after task_3\n",
    "\n",
    "problem.add_constraint(ps.TaskPrecedence(task_before=dig_medium_hole, task_after=dig_huge_hole))\n",
    "\n",
    "solver = ps.SchedulingSolver(problem)\n",
    "solution = solver.solve()"
   ]
  },
  {
   "cell_type": "code",
   "execution_count": null,
   "id": "parliamentary-superior",
   "metadata": {},
   "outputs": [],
   "source": [
    "solution.render_gantt_matplotlib()"
   ]
  },
  {
   "cell_type": "code",
   "execution_count": null,
   "id": "foster-mauritius",
   "metadata": {},
   "outputs": [],
   "source": [
    "problem.add_constraint(ps.TaskPrecedence(task_before=dig_small_hole, task_after=dig_medium_hole))\n",
    "problem.add_constraint(ps.TaskPrecedence(task_before=dig_small_hole, task_after=dig_medium_hole))\n",
    "solver = ps.SchedulingSolver(problem)\n",
    "solution2 = solver.solve()\n",
    "solution2.render_gantt_matplotlib()"
   ]
  }
 ],
 "metadata": {
  "kernelspec": {
   "display_name": "Python 3",
   "language": "python",
   "name": "python3"
  },
  "language_info": {
   "codemirror_mode": {
    "name": "ipython",
    "version": 3
   },
   "file_extension": ".py",
   "mimetype": "text/x-python",
   "name": "python",
   "nbconvert_exporter": "python",
   "pygments_lexer": "ipython3",
   "version": "3.8.6"
  }
 },
 "nbformat": 4,
 "nbformat_minor": 5
}
